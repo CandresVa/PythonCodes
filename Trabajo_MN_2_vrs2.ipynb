{
 "cells": [
  {
   "cell_type": "code",
   "execution_count": 1,
   "metadata": {},
   "outputs": [],
   "source": [
    "import numpy as np\n",
    "import pandas as pd\n",
    "import matplotlib.pyplot as plt\n",
    "%matplotlib notebook"
   ]
  },
  {
   "cell_type": "code",
   "execution_count": 3,
   "metadata": {},
   "outputs": [],
   "source": [
    "rf1=(128*1.78*(10**-5)*3)/(np.pi*1.21*(0.03**4))\n",
    "rf2=(128*1.78*(10**-5)*6)/(np.pi*1.21*(0.03**4))\n",
    "cf1=(np.pi*(0.5**2))/(4*9.81)\n",
    "cf2=(np.pi*(0.4**2))/(4*9.81)\n",
    "pcomp=5*100000 #[Pa]\n",
    "#hay presiones 1 y2, en 2 ecuaciones\n",
    "h=1; n=701; p1=np.zeros(n);p2=np.zeros(n);p1[0]=0;p2[0]=0\n",
    "t=np.arange(701)"
   ]
  },
  {
   "cell_type": "markdown",
   "metadata": {},
   "source": [
    "# Primero-> se identifica que la ecuación 2 no depende de la presión 1, luego de ahí puedo hallar la P2(t)\n",
    "\n",
    "$$ (C_{f,1}C_{f,2}R_{f,1}R_{f,2})\\dfrac{d^2p_2(t)}{dt^2}+[C_{f,2}(R_{f,1}+R_{f,2})+C_{f,1}R_{f,1}]\\dfrac{dp_2(t)}{dt} + p_2(t)=p_{comp}$$\n",
    "\n",
    "Condiciones: \n",
    "$$h=1 s$$\n",
    "\n",
    "$$p_2(0)=0$$\n",
    "\n",
    "$$0 < t < 700s$$\n",
    "\n",
    "# Pasos\n",
    "1. Despeje de la derivada de mayor orden:\n",
    "$$ \\dfrac{d^2p_2(t)}{dt^2}=\\dfrac{p_{comp}-[C_{f,2}(R_{f,1}+R_{f,2})+C_{f,1}R_{f,1}]\\dfrac{dp_2(t)}{dt}-p_2(t)}{(C_{f,1}C_{f,2}R_{f,1}R_{f,2})}$$\n",
    "\n",
    "#### Condiciones:\n",
    "$$p_2(0)=0$$\n",
    "$$p'_2(0)=¿?$$\n",
    "\n",
    "\n",
    "2. Transformación de variables:\n",
    "$$ p_{21}(t)=p_2(t)$$\n",
    "$$ p_{22}(t)=p'_2(t)$$\n",
    "$$ p_{23}(t)=p''_2(t)$$\n",
    "\n",
    "3. Construcción del sistema de EDO de primer orden → se derivan las ecuaciones anteriores:\n",
    "$$ \\dfrac{dp_{21}(t)}{dt}=p'_{21}(t)=p'_{2}(t)$$\n",
    "$$ \\dfrac{dp_{22}(t)}{dt}=p'_{22}(t)=\\dfrac{dp'_{2}(t)}{dt}=p''_2(t)$$\n",
    "\n",
    "### Sistema:\n",
    "$$ \\dfrac{dp_{21}(t)}{dt}=p_{22}(t)$$\n",
    "\n",
    "$$ \\dfrac{dp_{22}(t)}{dt}=\\dfrac{p_{comp}-[C_{f,2}(R_{f,1}+R_{f,2})+C_{f,1}R_{f,1}]p_{22}(t)-p_{21}(t)}{(C_{f,1}C_{f,2}R_{f,1}R_{f,2})}$$\n",
    "#### Donde:\n",
    "$$p_{21}(0)=p_{2}(0)=0$$\n",
    "# OJO Rectificar:\n",
    "$$p_{22}(0)=p'_{2}(0)=\\dfrac{dp_{21}(0)}{dt}=¿?$$\n",
    "\n",
    "# SOLUCIÓN\n",
    "Solución: Ahora que se tiene un sistema de dos EDO de primer orden, se puede obtener la solución usando el método de RK de cuarto orden.\n",
    "Para proceder con el cálculo de los términos k1 a k4, se identifican las funciones que definen las dos ecuaciones diferenciales:\n",
    "\n",
    "$$f_1(x,p_{21},p_{22})=p_{22}(t)$$\n",
    "\n",
    "$$f_2(x,p_{21},p_{22})=\\dfrac{p_{comp}-[C_{f,2}(R_{f,1}+R_{f,2})+C_{f,1}R_{f,1}]p_{22}(t)-p_{21}(t)}{(C_{f,1}C_{f,2}R_{f,1}R_{f,2})}$$"
   ]
  },
  {
   "cell_type": "code",
   "execution_count": 3,
   "metadata": {},
   "outputs": [],
   "source": [
    "p21=np.zeros(n);p22=np.zeros(n)\n",
    "p21[0]=0; p22[0]=0"
   ]
  },
  {
   "cell_type": "code",
   "execution_count": 4,
   "metadata": {},
   "outputs": [],
   "source": [
    "for j in range(0,700):\n",
    "    k11=p22[j] #porque p22[0]=0\n",
    "    k12=(pcomp-(cf2*(rf1+rf2)+cf1*rf1)*p22[j]-p21[j])/(cf1*cf2*rf1*rf2)\n",
    "    k21=p22[j]+0.5*k12*h\n",
    "    k22=(pcomp-(cf2*(rf1+rf2)+cf1*rf1)*(p22[j]+0.5*k12*h)-(p21[j]+0.5*k11*h))/(cf1*cf2*rf1*rf2)\n",
    "    k31=p22[j]+0.5*k22*h\n",
    "    k32=(pcomp-(cf2*(rf1+rf2)+cf1*rf1)*( p22[j]+0.5*k22*h)-(p21[j]+0.5*k21*h))/(cf1*cf2*rf1*rf2)\n",
    "    k41= p22[j]+k32*h\n",
    "    k42=(pcomp-(cf2*(rf1+rf2)+cf1*rf1)*(p22[j]+k32*h)-(p21[j]+k31*h))/(cf1*cf2*rf1*rf2)\n",
    "    p21[j+1]=p21[j]+(1/6)*(k11+2*k21+2*k31+k41)*h\n",
    "    p22[j+1]=p22[j]+(1/6)*(k12+2*k22+2*k32+k42)*h"
   ]
  },
  {
   "cell_type": "markdown",
   "metadata": {},
   "source": [
    "# Luego debo resolver P1(t)\n",
    "$$ \\dfrac{dp_1(t)}{dt}=\\dfrac{R_{f,2}p_{comp}-(R_{f,1}+R_{f,2})p_1(t)-R_{f,1}p_2(t)}{(C_{f,1}R_{f,1}R_{f,2})}$$\n",
    "Condiciones iniciales:\n",
    "\n",
    "$$ p_1(0)=0$$\n",
    "\n",
    "$$ p'_1(0)=\\dfrac{R_{f,2}p_{comp}-(R_{f,1}+R_{f,2})p_1(0)-R_{f,1}p_2(0)}{(C_{f,1}R_{f,1}R_{f,2})}$$\n",
    "\n",
    "#### SIN EMBARGO P1' NO SE NECESITA\n",
    "\n",
    "$$ p_1(0)=0$$\n",
    "\n",
    "$$ p'_1(0)=11253.2549$$"
   ]
  },
  {
   "cell_type": "code",
   "execution_count": 5,
   "metadata": {},
   "outputs": [],
   "source": [
    "for i in range(0,700):\n",
    "    k1=(rf2*pcomp-(rf1+rf2)*p1[i]-rf1*p21[i])/(cf1*rf1*rf2)\n",
    "    k2=(rf2*pcomp-(rf1+rf2)*(p1[i]+0.5*k1*h)-rf1*p21[i])/(cf1*rf1*rf2)\n",
    "    k3=(rf2*pcomp-(rf1+rf2)*(p1[i]+0.5*k2*h)-rf1*p21[i])/(cf1*rf1*rf2)\n",
    "    k4=(rf2*pcomp-(rf1+rf2)*(p1[i]+k3*h)-rf1*p21[i])/(cf1*rf1*rf2)\n",
    "    p1[i+1]=p1[i]+(1/6)*(k1+2*k2+2*k3+k4)"
   ]
  },
  {
   "cell_type": "code",
   "execution_count": 6,
   "metadata": {},
   "outputs": [
    {
     "data": {
      "text/plain": [
       "<matplotlib.legend.Legend at 0x1dc29906550>"
      ]
     },
     "execution_count": 6,
     "metadata": {},
     "output_type": "execute_result"
    },
    {
     "data": {
      "image/png": "[encoded data removed]",
      "text/plain": [
       "<Figure size 576x360 with 1 Axes>"
      ]
     },
     "metadata": {
      "needs_background": "light"
     },
     "output_type": "display_data"
    }
   ],
   "source": [
    "plt.figure(figsize=(8,5))\n",
    "plt.plot(t,p1/100000,color='K', label='PRESIÓN 1')\n",
    "plt.plot(t,p21/100000,color='b', label='PRESIÓN 2')\n",
    "plt.xlabel('Tiempo [s]')\n",
    "plt.ylabel('Presiones [Bar]')\n",
    "plt.title(\"PRESIÓN VS T\",fontsize = 18)\n",
    "plt.grid()\n",
    "plt.legend()"
   ]
  },
  {
   "cell_type": "code",
   "execution_count": null,
   "metadata": {},
   "outputs": [],
   "source": []
  }
 ],
 "metadata": {
  "kernelspec": {
   "display_name": "Python 3 (ipykernel)",
   "language": "python",
   "name": "python3"
  },
  "language_info": {
   "codemirror_mode": {
    "name": "ipython",
    "version": 3
   },
   "file_extension": ".py",
   "mimetype": "text/x-python",
   "name": "python",
   "nbconvert_exporter": "python",
   "pygments_lexer": "ipython3",
   "version": "3.9.7"
  }
 },
 "nbformat": 4,
 "nbformat_minor": 2
}
