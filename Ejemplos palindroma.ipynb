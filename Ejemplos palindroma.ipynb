{
 "cells": [
  {
   "cell_type": "code",
   "execution_count": 4,
   "metadata": {},
   "outputs": [
    {
     "name": "stdout",
     "output_type": "stream",
     "text": [
      "escriba la palabra: Knowledge\n",
      "9\n",
      "o\n"
     ]
    }
   ],
   "source": [
    "word=input('escriba la palabra: ')\n",
    "print(len(word))\n",
    "print(word[2])"
   ]
  },
  {
   "cell_type": "code",
   "execution_count": 6,
   "metadata": {},
   "outputs": [
    {
     "name": "stdout",
     "output_type": "stream",
     "text": [
      "escriba la palabra: world\n",
      "Ahora i vale 0\n",
      "Ahora i vale 1\n",
      "Ahora i vale 2\n",
      "Ahora i vale 3\n",
      "Ahora i vale 4\n",
      "Final\n"
     ]
    }
   ],
   "source": [
    "palabra=input('escriba la palabra: ')\n",
    "l=int(len(palabra))\n",
    "for i in range(l) :\n",
    "    print(\"Ahora i vale\", i)\n",
    "\n",
    "print(\"Final\")"
   ]
  },
  {
   "cell_type": "code",
   "execution_count": 7,
   "metadata": {},
   "outputs": [
    {
     "name": "stdout",
     "output_type": "stream",
     "text": [
      "escriba la palabra: GitHub\n",
      "no es palindroma\n"
     ]
    }
   ],
   "source": [
    "palabra=input('escriba la palabra: ')\n",
    "l=int(len(palabra))\n",
    "lf=l-1\n",
    "error=0\n",
    "for i in range(l):\n",
    "    \n",
    "    if palabra[i]==palabra[lf]:\n",
    "        error=error\n",
    "    else:\n",
    "        error=error+1\n",
    "    lf=lf-1\n",
    "if error==0:\n",
    "    print(\"es palabra palindroma\")\n",
    "else:\n",
    "    print('no es palindroma')"
   ]
  },
  {
   "cell_type": "code",
   "execution_count": 8,
   "metadata": {},
   "outputs": [
    {
     "name": "stdout",
     "output_type": "stream",
     "text": [
      "escriba la palabra: RECONOCER\n",
      "R - R -> ✓\n",
      "E - E -> ✓\n",
      "C - C -> ✓\n",
      "O - O -> ✓\n",
      "N - N -> ✓\n",
      "O - O -> ✓\n",
      "C - C -> ✓\n",
      "E - E -> ✓\n",
      "R - R -> ✓\n",
      "La palabra es palindroma\n"
     ]
    }
   ],
   "source": [
    "palabra=input('escriba la palabra: ')\n",
    "l=int(len(palabra))\n",
    "lf=l-1\n",
    "error=0\n",
    "for i in range(l):\n",
    "    if palabra[i]==palabra[lf]:\n",
    "        error=error\n",
    "        print(palabra[i],\"-\",palabra[lf],\"-> ✓\")\n",
    "    else:\n",
    "        error=error+1\n",
    "        print(palabra[i],\"-\",palabra[lf],\"-> X\")\n",
    "    lf=lf-1\n",
    "if error==0:\n",
    "    print(\"La palabra es palindroma\")\n",
    "else:\n",
    "    print('La palabra no es palindroma')"
   ]
  },
  {
   "cell_type": "code",
   "execution_count": 9,
   "metadata": {},
   "outputs": [
    {
     "name": "stdout",
     "output_type": "stream",
     "text": [
      "escriba la palabra: LIFE\n",
      "longitud:  4\n",
      "L E\n",
      "I F\n",
      "F I\n",
      "E L\n",
      "Final\n"
     ]
    }
   ],
   "source": [
    "palabra=input('escriba la palabra: ')\n",
    "l=int(len(palabra))\n",
    "lf=l-1\n",
    "print(\"longitud: \", l)\n",
    "for i in range(l):\n",
    "    print(palabra[i],palabra[lf])\n",
    "    lf=lf-1\n",
    "\n",
    "print(\"Final\")"
   ]
  },
  {
   "cell_type": "code",
   "execution_count": null,
   "metadata": {},
   "outputs": [],
   "source": []
  }
 ],
 "metadata": {
  "kernelspec": {
   "display_name": "Python 3 (ipykernel)",
   "language": "python",
   "name": "python3"
  },
  "language_info": {
   "codemirror_mode": {
    "name": "ipython",
    "version": 3
   },
   "file_extension": ".py",
   "mimetype": "text/x-python",
   "name": "python",
   "nbconvert_exporter": "python",
   "pygments_lexer": "ipython3",
   "version": "3.9.7"
  }
 },
 "nbformat": 4,
 "nbformat_minor": 2
}
