{
 "cells": [
  {
   "cell_type": "markdown",
   "id": "a5c6c8b8",
   "metadata": {},
   "source": [
    "## Use Case/Problem\n",
    "Lo que se busca en este juego es pre-construir una serie de preguntas con 4 opciones de respuesta y una de ella válida, además de una categoría asociada con el mismo nivel de dificultad. Cada pregunta debe estar categorizada y debe existir mínimo 5 preguntas por categoría donde por cada ronda se debe extraer una pregunta de esa categoría de forma aleatoria, debe existir 5 rondas en todo el juego, cada ronda otorga premios (puntos o dinero) cuando el jugador acierta correctamente.\n",
    "\n",
    "El acomulado de premios está dentro del concurso pero si dado el caso el jugador pretender salir de juego puede retirarse antes de responder a la pregunta, si por el contrario el jugador pierde entonces saldría del juego sin el acomulado que llevaría en ese momento."
   ]
  },
  {
   "cell_type": "code",
   "execution_count": null,
   "id": "ade91dad",
   "metadata": {},
   "outputs": [],
   "source": []
  },
  {
   "cell_type": "code",
   "execution_count": 3,
   "id": "11c88b4d",
   "metadata": {},
   "outputs": [],
   "source": [
    "#WIDGET\n",
    "from IPython.display import display # Permite visualizar un widget\n",
    "import ipywidgets as ipw\n",
    "from ipywidgets import interact,widgets\n",
    "#GRAFICAS Y FUNCIONES\n",
    "import matplotlib.pyplot as plt\n",
    "import numpy as np"
   ]
  },
  {
   "cell_type": "code",
   "execution_count": 38,
   "id": "787e0373",
   "metadata": {},
   "outputs": [
    {
     "data": {
      "application/vnd.jupyter.widget-view+json": {
       "model_id": "cf21dbdb7e7e4eaba0331a23d577a8a0",
       "version_major": 2,
       "version_minor": 0
      },
      "text/plain": [
       "Select(description='Pregunta 1', options=('Colisión inminente', 'Determinar si colisionan'), value='Colisión i…"
      ]
     },
     "metadata": {},
     "output_type": "display_data"
    }
   ],
   "source": [
    "a = widgets.Select(options=['Colisión inminente', 'Determinar si colisionan'],description='Pregunta 1',disabled=False)\n",
    "display(a)"
   ]
  },
  {
   "cell_type": "code",
   "execution_count": 43,
   "id": "eddc5cb4",
   "metadata": {},
   "outputs": [
    {
     "data": {
      "application/vnd.jupyter.widget-view+json": {
       "model_id": "b26e365e066d448794c6d6e340f19d04",
       "version_major": 2,
       "version_minor": 0
      },
      "text/plain": [
       "IntSlider(value=0, description='Nivel de riesgo', max=10, orientation='vertical', step=2)"
      ]
     },
     "metadata": {},
     "output_type": "display_data"
    }
   ],
   "source": [
    "b=widgets.IntSlider(min=0, max=10, step=2, orientation='vertical', description= \"Nivel de riesgo\")\n",
    "display(b)"
   ]
  },
  {
   "cell_type": "code",
   "execution_count": 48,
   "id": "17323841",
   "metadata": {},
   "outputs": [
    {
     "data": {
      "application/vnd.jupyter.widget-view+json": {
       "model_id": "55939ded2c1245e7b7f59024d5ea579a",
       "version_major": 2,
       "version_minor": 0
      },
      "text/plain": [
       "Button(description='Holii', style=ButtonStyle(), tooltip='describe mientras estoy encima')"
      ]
     },
     "metadata": {},
     "output_type": "display_data"
    }
   ],
   "source": [
    "ipw.Button(description=\"Holii\",tooltip=\"describe mientras estoy encima\")"
   ]
  },
  {
   "cell_type": "code",
   "execution_count": 52,
   "id": "3446b820",
   "metadata": {},
   "outputs": [],
   "source": [
    "ipw.HBox?"
   ]
  },
  {
   "cell_type": "code",
   "execution_count": 70,
   "id": "350fcb22",
   "metadata": {},
   "outputs": [
    {
     "data": {
      "application/vnd.jupyter.widget-view+json": {
       "model_id": "d4f53c31ed2a466b8b9971adcc1312f0",
       "version_major": 2,
       "version_minor": 0
      },
      "text/plain": [
       "Checkbox(value=False, description='1', indent=False)"
      ]
     },
     "metadata": {},
     "output_type": "display_data"
    }
   ],
   "source": [
    "ipw.Checkbox(value=False,description=('1'),indent=False)"
   ]
  },
  {
   "cell_type": "code",
   "execution_count": 78,
   "id": "f2b4de22",
   "metadata": {},
   "outputs": [
    {
     "data": {
      "application/vnd.jupyter.widget-view+json": {
       "model_id": "2b95b0e4ede348f0a688657d338b437b",
       "version_major": 2,
       "version_minor": 0
      },
      "text/plain": [
       "IntText(value=5)"
      ]
     },
     "metadata": {},
     "output_type": "display_data"
    }
   ],
   "source": [
    "ipw.IntText(value=5)"
   ]
  },
  {
   "cell_type": "code",
   "execution_count": 107,
   "id": "2a86d77a",
   "metadata": {},
   "outputs": [
    {
     "data": {
      "application/vnd.jupyter.widget-view+json": {
       "model_id": "e558507d3c134b9e81264cb7354a9a86",
       "version_major": 2,
       "version_minor": 0
      },
      "text/plain": [
       "Dropdown(description='Prueba', index=1, options=('h1', 'h2'), value='h2')"
      ]
     },
     "metadata": {},
     "output_type": "display_data"
    }
   ],
   "source": [
    "ipw.Dropdown(options=[\"h1\",\"h2\"],description=\"Prueba\",disabled=0,index=1)"
   ]
  },
  {
   "cell_type": "code",
   "execution_count": 111,
   "id": "90a63cc8",
   "metadata": {},
   "outputs": [
    {
     "data": {
      "application/vnd.jupyter.widget-view+json": {
       "model_id": "5c20da881f99470e8806e4907b4de784",
       "version_major": 2,
       "version_minor": 0
      },
      "text/plain": [
       "SelectMultiple(options=('1', '2', 'fgfg'), value=())"
      ]
     },
     "metadata": {},
     "output_type": "display_data"
    }
   ],
   "source": [
    "ipw.SelectMultiple(options=[\"1\",\"2\",\"fgfg\"])"
   ]
  },
  {
   "cell_type": "code",
   "execution_count": 120,
   "id": "c0098908",
   "metadata": {},
   "outputs": [
    {
     "data": {
      "application/vnd.jupyter.widget-view+json": {
       "model_id": "78275509369a4e639e79661c4ae55afd",
       "version_major": 2,
       "version_minor": 0
      },
      "text/plain": [
       "VBox(box_style='danger')"
      ]
     },
     "metadata": {},
     "output_type": "display_data"
    }
   ],
   "source": [
    "ipw.VBox(box_style=\"danger\")"
   ]
  },
  {
   "cell_type": "code",
   "execution_count": 142,
   "id": "267fef2f",
   "metadata": {},
   "outputs": [
    {
     "data": {
      "application/vnd.jupyter.widget-view+json": {
       "model_id": "739c5243f3bc4d4788a258fec66728c5",
       "version_major": 2,
       "version_minor": 0
      },
      "text/plain": [
       "VBox(box_style='info', children=(HTML(value='<em>Horizontal Box Example</em> hok'), IntSlider(value=0, descrip…"
      ]
     },
     "metadata": {},
     "output_type": "display_data"
    }
   ],
   "source": [
    "import ipywidgets as widgets\n",
    "title_widget = widgets.HTML('<em>Horizontal Box Example</em> hok')\n",
    "slider = widgets.IntSlider(min=0, max=100, step=1, orientation='horizontal', description= \"Risk level\")\n",
    "ipw.VBox([title_widget, slider],box_style=\"info\")"
   ]
  },
  {
   "cell_type": "code",
   "execution_count": 137,
   "id": "c3017588",
   "metadata": {},
   "outputs": [],
   "source": [
    "ipw.VBox?"
   ]
  },
  {
   "cell_type": "code",
   "execution_count": 147,
   "id": "70e85b8e",
   "metadata": {},
   "outputs": [
    {
     "data": {
      "application/vnd.jupyter.widget-view+json": {
       "model_id": "2fbc70684a92411e9ecb3ee8fbeddd60",
       "version_major": 2,
       "version_minor": 0
      },
      "text/plain": [
       "HTML(value='<em>Horizontal Box Example</em>, by Carlos Valencia')"
      ]
     },
     "metadata": {},
     "output_type": "display_data"
    }
   ],
   "source": [
    "ipw.HTML('<em>Horizontal Box Example</em>, by Carlos Valencia')"
   ]
  },
  {
   "cell_type": "code",
   "execution_count": null,
   "id": "db7883c7",
   "metadata": {},
   "outputs": [],
   "source": []
  }
 ],
 "metadata": {
  "kernelspec": {
   "display_name": "Python 3 (ipykernel)",
   "language": "python",
   "name": "python3"
  },
  "language_info": {
   "codemirror_mode": {
    "name": "ipython",
    "version": 3
   },
   "file_extension": ".py",
   "mimetype": "text/x-python",
   "name": "python",
   "nbconvert_exporter": "python",
   "pygments_lexer": "ipython3",
   "version": "3.9.7"
  }
 },
 "nbformat": 4,
 "nbformat_minor": 5
}
