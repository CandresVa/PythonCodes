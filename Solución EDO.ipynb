{
 "cells": [
  {
   "cell_type": "code",
   "execution_count": 1,
   "metadata": {},
   "outputs": [],
   "source": [
    "import numpy as np\n",
    "import matplotlib.pyplot as plt\n",
    "plt.rc('text',usetex=True)\n",
    "%matplotlib notebook"
   ]
  },
  {
   "cell_type": "code",
   "execution_count": 2,
   "metadata": {},
   "outputs": [],
   "source": [
    "m1=0.5;m2=1;m3=1\n",
    "r1=0.02;r2=0.04\n",
    "fe=0.25\n",
    "k1=120;k2=100;c=25\n",
    "a0=k1*r2**2+k2*r1**2\n",
    "a2=(0.5*m1++m3)*r1**2+0.5*m2*r2**2"
   ]
  },
  {
   "cell_type": "code",
   "execution_count": 3,
   "metadata": {},
   "outputs": [
    {
     "name": "stdout",
     "output_type": "stream",
     "text": [
      "Número de ecuaciones del sistema: 2\n",
      "Ingrese la ecuación 1:    2+2\n",
      "Ingrese la ecuación 2:    3+56\n",
      "Intervalo de solución como lista:    [0,10]\n",
      "Paso para la solución:    1\n",
      "Condiciones iniciales como lista:    0\n"
     ]
    }
   ],
   "source": [
    "n=int(input('Número de ecuaciones del sistema: '))\n",
    "F={}\n",
    "for i in range(n):\n",
    "    fun_i=input('Ingrese la ecuación '+str(i+1)+':    ')\n",
    "    F['f_'+str(i)]=fun_i\n",
    "int_sol=eval(input('Intervalo de solución como lista:    '))\n",
    "a=float(int_sol[0]);b=float(int_sol[1])\n",
    "h=float(input('Paso para la solución:    '))\n",
    "y_0ls=input('Condiciones iniciales como lista:    ')\n",
    "y0=np.array(eval('['+y_0ls+']'))"
   ]
  },
  {
   "cell_type": "code",
   "execution_count": 10,
   "metadata": {},
   "outputs": [
    {
     "data": {
      "text/plain": [
       "'2+2'"
      ]
     },
     "execution_count": 10,
     "metadata": {},
     "output_type": "execute_result"
    }
   ],
   "source": [
    "F['f_0']"
   ]
  },
  {
   "cell_type": "code",
   "execution_count": 5,
   "metadata": {},
   "outputs": [
    {
     "name": "stdout",
     "output_type": "stream",
     "text": [
      "Intervalo de solución como lista:    [0,10]\n"
     ]
    }
   ],
   "source": [
    "int_sol=eval(input('Intervalo de solución como lista:    '))"
   ]
  },
  {
   "cell_type": "code",
   "execution_count": null,
   "metadata": {},
   "outputs": [],
   "source": []
  },
  {
   "cell_type": "code",
   "execution_count": null,
   "metadata": {},
   "outputs": [],
   "source": []
  }
 ],
 "metadata": {
  "kernelspec": {
   "display_name": "Python 3",
   "language": "python",
   "name": "python3"
  },
  "language_info": {
   "codemirror_mode": {
    "name": "ipython",
    "version": 3
   },
   "file_extension": ".py",
   "mimetype": "text/x-python",
   "name": "python",
   "nbconvert_exporter": "python",
   "pygments_lexer": "ipython3",
   "version": "3.7.3"
  }
 },
 "nbformat": 4,
 "nbformat_minor": 2
}
